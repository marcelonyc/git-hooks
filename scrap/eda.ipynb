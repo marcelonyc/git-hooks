{
 "cells": [
  {
   "cell_type": "code",
   "execution_count": 6,
   "metadata": {},
   "outputs": [],
   "source": [
    "import subprocess\n",
    "from typing import Dict\n",
    "import logging\n",
    "import json\n",
    "\n",
    "\n",
    "def is_cli_installed() -> bool:\n",
    "    run_it = subprocess.run(\n",
    "        [\"jfrog\", \"--version\"], capture_output=True, text=True\n",
    "    )\n",
    "\n",
    "    if run_it.returncode != 0:\n",
    "        logging.error(\"Failed to execute\", run_it.stderr)\n",
    "        return False\n",
    "        # sys.exit(run_it.returncode)\n",
    "\n",
    "    return True\n",
    "\n",
    "\n",
    "def run_jfrog_audit() -> Dict:\n",
    "    run_it = subprocess.run(\n",
    "        [\"jfrog\", \"audit\", \"--format\", \"sarif\"], capture_output=True, text=True\n",
    "    )\n",
    "\n",
    "    if run_it.returncode != 0:\n",
    "        logging.error(\"Failed to execute\", run_it.stderr)\n",
    "        raise Exception(run_it.stderr)\n",
    "\n",
    "    return run_it.stdout\n",
    "\n"
   ]
  },
  {
   "cell_type": "code",
   "execution_count": 7,
   "metadata": {},
   "outputs": [],
   "source": [
    "\n",
    "outit = json.loads(run_jfrog_audit())"
   ]
  },
  {
   "cell_type": "code",
   "execution_count": 9,
   "metadata": {},
   "outputs": [
    {
     "name": "stdout",
     "output_type": "stream",
     "text": [
      "False\n"
     ]
    }
   ],
   "source": [
    "for run in outit['runs']:\n",
    "        if run['tool']['driver']['name'] == \"JFrog Secrets scanner\":\n",
    "            secret_scan_results = run['results']\n",
    "   \n",
    "if len(secret_scan_results) > 0:\n",
    "    print(True)\n",
    "else:\n",
    "    print(False)\n",
    "    \n"
   ]
  }
 ],
 "metadata": {
  "kernelspec": {
   "display_name": "demo-builder",
   "language": "python",
   "name": "python3"
  },
  "language_info": {
   "codemirror_mode": {
    "name": "ipython",
    "version": 3
   },
   "file_extension": ".py",
   "mimetype": "text/x-python",
   "name": "python",
   "nbconvert_exporter": "python",
   "pygments_lexer": "ipython3",
   "version": "3.10.13"
  }
 },
 "nbformat": 4,
 "nbformat_minor": 2
}
